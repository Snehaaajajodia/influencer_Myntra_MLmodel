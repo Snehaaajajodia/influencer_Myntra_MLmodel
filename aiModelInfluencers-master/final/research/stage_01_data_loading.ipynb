{
 "cells": [
  {
   "cell_type": "code",
   "execution_count": 3,
   "metadata": {},
   "outputs": [],
   "source": [
    "import pandas as pd\n",
    "import numpy as np\n",
    "from pathlib import Path\n",
    "import os\n"
   ]
  },
  {
   "cell_type": "code",
   "execution_count": 2,
   "metadata": {},
   "outputs": [],
   "source": [
    "\n",
    "os.chdir(\"../\")\n",
    "from influencer_score import logger"
   ]
  },
  {
   "cell_type": "code",
   "execution_count": 4,
   "metadata": {},
   "outputs": [],
   "source": [
    "class DataLoading:\n",
    "    def __init__(self,data_path:str):\n",
    "        self.data_path=data_path\n",
    "\n",
    "    def load_data(self)->pd.DataFrame:\n",
    "        try:\n",
    "            df=pd.read_csv(os.path.normpath(self.data_path))\n",
    "            logger.info(\"loaded the data successfully\")\n",
    "            return df\n",
    "        except Exception as e:\n",
    "            logger.error(\"error loading data: {}\".format(e))\n",
    "            raise e\n",
    "        "
   ]
  },
  {
   "cell_type": "code",
   "execution_count": 5,
   "metadata": {},
   "outputs": [
    {
     "name": "stdout",
     "output_type": "stream",
     "text": [
      "[2024-07-13 22:47:54,198: INFO: 4001003418: loaded the data successfully]\n",
      "     influencer_id  Number of subscribers  followers  average_likes  \\\n",
      "0                1                 105142     391772          21984   \n",
      "1                2                 862142     142983          41491   \n",
      "2                3                 592238     115478           4553   \n",
      "3                4                 845945     275433          16808   \n",
      "4                5                 833454      88199           9059   \n",
      "..             ...                    ...        ...            ...   \n",
      "995            996                 884309     472556          38543   \n",
      "996            997                 683583     192189           9438   \n",
      "997            998                 676993     359854          26225   \n",
      "998            999                 859672     232580           5141   \n",
      "999           1000                 453163     100388          12426   \n",
      "\n",
      "     average_comments  average_shares primary_platform Targeted_audience_age  \\\n",
      "0                7208            3155         Facebook              25 to 35   \n",
      "1                4741            1587        Instagram               5 to 15   \n",
      "2                9401             458          YouTube               5 to 15   \n",
      "3                1124             311        Instagram              25 to 35   \n",
      "4                 371             971        Instagram              35 to 45   \n",
      "..                ...             ...              ...                   ...   \n",
      "995              8716            1706          YouTube               5 to 15   \n",
      "996              6518            3969         Facebook              25 to 35   \n",
      "997              4813            3879        Instagram              15 to 25   \n",
      "998              3388            4150        Instagram              25 to 35   \n",
      "999              2494            2977        Instagram               5 to 15   \n",
      "\n",
      "    Targetaudience_gender  past_campaign_success product_category  \\\n",
      "0                  Others                    4.1      Accessories   \n",
      "1                  Others                    2.1         Clothing   \n",
      "2                    Male                    4.9        Cosmetics   \n",
      "3                  Female                    2.6         Clothing   \n",
      "4                  Female                    6.9         Clothing   \n",
      "..                    ...                    ...              ...   \n",
      "995                Others                    3.9      Accessories   \n",
      "996                Others                    2.0        Cosmetics   \n",
      "997                  Male                    5.3        Cosmetics   \n",
      "998                Female                    3.4      Accessories   \n",
      "999                Others                    9.5        Cosmetics   \n",
      "\n",
      "     budget_per_video  engagement_rate  follower_growth_rate  \\\n",
      "0              109502              3.8                   6.2   \n",
      "1               89273              6.0                   5.7   \n",
      "2               54846              4.3                   1.7   \n",
      "3              127661              9.8                  10.0   \n",
      "4               86639              4.7                   2.8   \n",
      "..                ...              ...                   ...   \n",
      "995             54453              7.0                   8.0   \n",
      "996            147431              3.3                   4.6   \n",
      "997            102083              4.9                   7.4   \n",
      "998            144959              2.6                   6.3   \n",
      "999            127221              8.1                   6.0   \n",
      "\n",
      "     pat_campaign_success_rate Geographical location: state of India  \\\n",
      "0                          2.2                                Sikkim   \n",
      "1                          7.3                               Gujarat   \n",
      "2                          4.9                             Rajasthan   \n",
      "3                          2.5                               Gujarat   \n",
      "4                          3.4                             Rajasthan   \n",
      "..                         ...                                   ...   \n",
      "995                        2.9                             Rajasthan   \n",
      "996                        7.8                                Kerala   \n",
      "997                        9.3                           Maharashtra   \n",
      "998                        2.6                            Tamil Nadu   \n",
      "999                        4.2                                Sikkim   \n",
      "\n",
      "    campaign duration  score  \n",
      "0            3 months    3.4  \n",
      "1              1 year    4.8  \n",
      "2            3 months    3.2  \n",
      "3             2 years    5.1  \n",
      "4            6 months    3.8  \n",
      "..                ...    ...  \n",
      "995          3 months    4.5  \n",
      "996            1 year    3.6  \n",
      "997          6 months    5.5  \n",
      "998          3 months    3.0  \n",
      "999          2 months    5.8  \n",
      "\n",
      "[1000 rows x 18 columns]\n"
     ]
    }
   ],
   "source": [
    "try:\n",
    "    loader=DataLoading(r\"C:\\Users\\denni\\Desktop\\influencer recommender\\data\\influencer_data_with_scores.csv\")\n",
    "    df=loader.load_data()\n",
    "    print(df)\n",
    "except Exception as e:\n",
    "    logger.error(\"error loading data: {}\".format(e))\n",
    "    raise e"
   ]
  },
  {
   "cell_type": "code",
   "execution_count": null,
   "metadata": {},
   "outputs": [],
   "source": []
  }
 ],
 "metadata": {
  "kernelspec": {
   "display_name": "influencer_env",
   "language": "python",
   "name": "python3"
  },
  "language_info": {
   "codemirror_mode": {
    "name": "ipython",
    "version": 3
   },
   "file_extension": ".py",
   "mimetype": "text/x-python",
   "name": "python",
   "nbconvert_exporter": "python",
   "pygments_lexer": "ipython3",
   "version": "3.9.0"
  }
 },
 "nbformat": 4,
 "nbformat_minor": 2
}
